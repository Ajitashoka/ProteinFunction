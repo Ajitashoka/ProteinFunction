{
 "cells": [
  {
   "cell_type": "code",
   "execution_count": 1,
   "id": "85401b8a",
   "metadata": {},
   "outputs": [],
   "source": [
    "import os\n",
    "import numpy as np\n",
    "import pandas as pd\n",
    "from tensorflow.keras.models import Sequential\n",
    "from tensorflow.keras.layers import Conv1D, MaxPooling1D, Flatten, Dense\n",
    "from tensorflow.keras.preprocessing.sequence import pad_sequences"
   ]
  },
  {
   "cell_type": "code",
   "execution_count": 9,
   "id": "5ce0c871",
   "metadata": {},
   "outputs": [],
   "source": [
    "num_channels = 3\n",
    "max_sequence_length = 1000  # Set maximum sequence length\n",
    "\n",
    "def dataPrep(folderPath):\n",
    "    # Get a list of all .npy files in the folder\n",
    "    file_list = [file for file in os.listdir(folderPath) if file.endswith('.npy')]\n",
    "\n",
    "    #print(len(file_list))\n",
    "    # Initialize lists to store padded data\n",
    "    padded_data_list = []\n",
    "\n",
    "    # Process each .npy file\n",
    "    for file_name in file_list:\n",
    "        # Load data from .npy file\n",
    "        data = np.load(os.path.join(folder_pathTest, file_name))\n",
    "\n",
    "        # Truncate or pad sequences to max_sequence_length\n",
    "        truncated_data = [seq[:max_sequence_length] for seq in data]\n",
    "        padded_data = pad_sequences(truncated_data, maxlen=max_sequence_length, padding='pre', dtype='float32')\n",
    "\n",
    "        padded_data_list.append(padded_data)\n",
    "    padded_data_list.append(padded_data_list[0]) \n",
    "    # Concatenate data from all files\n",
    "    padded_data_all = np.stack(padded_data_list, axis=0) #1136\n",
    "\n",
    "    # Swap axes to match model input shape (None, 1000, 3)\n",
    "    padded_data_all = np.swapaxes(padded_data_all, 1, 2)\n",
    "    return padded_data_all"
   ]
  },
  {
   "cell_type": "code",
   "execution_count": 11,
   "id": "664b6b66",
   "metadata": {},
   "outputs": [],
   "source": [
    "folder_pathTest=\"C:\\\\Users\\\\91629\\\\Desktop\\\\MF_test_data\"\n",
    "test_data=dataPrep(folder_pathTest)"
   ]
  },
  {
   "cell_type": "code",
   "execution_count": 12,
   "id": "0db15db7",
   "metadata": {},
   "outputs": [],
   "source": [
    "label1=pd.read_pickle(\"C:\\\\Users\\\\91629\\\\Downloads\\\\test_data_mf2_label.pkl\")"
   ]
  },
  {
   "cell_type": "code",
   "execution_count": 13,
   "id": "07bbc67c",
   "metadata": {},
   "outputs": [
    {
     "data": {
      "text/plain": [
       "(1137, 1000, 3)"
      ]
     },
     "execution_count": 13,
     "metadata": {},
     "output_type": "execute_result"
    }
   ],
   "source": [
    "test_data.shape"
   ]
  },
  {
   "cell_type": "code",
   "execution_count": 14,
   "id": "e40a3968",
   "metadata": {},
   "outputs": [
    {
     "data": {
      "text/plain": [
       "(1137, 677)"
      ]
     },
     "execution_count": 14,
     "metadata": {},
     "output_type": "execute_result"
    }
   ],
   "source": [
    "label1.shape"
   ]
  },
  {
   "cell_type": "code",
   "execution_count": 21,
   "id": "6dbd0e99",
   "metadata": {},
   "outputs": [
    {
     "name": "stdout",
     "output_type": "stream",
     "text": [
      "Epoch 1/10\n",
      "29/29 [==============================] - 4s 73ms/step - loss: 0.1306 - accuracy: 0.9603 - val_loss: 0.0834 - val_accuracy: 0.9847\n",
      "Epoch 2/10\n",
      "29/29 [==============================] - 2s 60ms/step - loss: 0.0656 - accuracy: 0.9883 - val_loss: 0.0797 - val_accuracy: 0.9847\n",
      "Epoch 3/10\n",
      "29/29 [==============================] - 2s 59ms/step - loss: 0.0641 - accuracy: 0.9883 - val_loss: 0.0797 - val_accuracy: 0.9847\n",
      "Epoch 4/10\n",
      "29/29 [==============================] - 2s 64ms/step - loss: 0.0643 - accuracy: 0.9883 - val_loss: 0.0795 - val_accuracy: 0.9847\n",
      "Epoch 5/10\n",
      "29/29 [==============================] - 2s 63ms/step - loss: 0.0639 - accuracy: 0.9883 - val_loss: 0.0799 - val_accuracy: 0.9847\n",
      "Epoch 6/10\n",
      "29/29 [==============================] - 2s 63ms/step - loss: 0.0639 - accuracy: 0.9883 - val_loss: 0.0802 - val_accuracy: 0.9847\n",
      "Epoch 7/10\n",
      "29/29 [==============================] - 2s 67ms/step - loss: 0.0637 - accuracy: 0.9883 - val_loss: 0.0801 - val_accuracy: 0.9847\n",
      "Epoch 8/10\n",
      "29/29 [==============================] - 2s 64ms/step - loss: 0.0636 - accuracy: 0.9883 - val_loss: 0.0797 - val_accuracy: 0.9847\n",
      "Epoch 9/10\n",
      "29/29 [==============================] - 2s 62ms/step - loss: 0.0636 - accuracy: 0.9883 - val_loss: 0.0807 - val_accuracy: 0.9847\n",
      "Epoch 10/10\n",
      "29/29 [==============================] - 2s 62ms/step - loss: 0.0633 - accuracy: 0.9883 - val_loss: 0.0798 - val_accuracy: 0.9847\n"
     ]
    },
    {
     "data": {
      "text/plain": [
       "<keras.src.callbacks.History at 0x21e87d18d00>"
      ]
     },
     "execution_count": 21,
     "metadata": {},
     "output_type": "execute_result"
    }
   ],
   "source": [
    "model = Sequential([\n",
    "    Conv1D(32, kernel_size=3, activation='relu', input_shape=(max_sequence_length, num_channels)),\n",
    "    MaxPooling1D(pool_size=2),\n",
    "    Conv1D(64, kernel_size=3, activation='relu'),\n",
    "    MaxPooling1D(pool_size=2),\n",
    "    Flatten(),\n",
    "    Dense(128, activation='relu'),\n",
    "    Dense(1, activation='sigmoid')  # Assuming binary classification, adjust output units for multiclass\n",
    "])\n",
    "\n",
    "model.add(Flatten())\n",
    "# Compile the model\n",
    "model.compile(optimizer='adam', loss='binary_crossentropy', metrics=['accuracy'])\n",
    "\n",
    "# Train the model\n",
    "model.fit(test_data, label1, epochs=10, batch_size=32, validation_split=0.2)"
   ]
  },
  {
   "cell_type": "code",
   "execution_count": 24,
   "id": "48f0d4d1",
   "metadata": {},
   "outputs": [],
   "source": [
    "test_metrics=model.evaluate(test_data,label1, verbose=0)"
   ]
  },
  {
   "cell_type": "code",
   "execution_count": 25,
   "id": "4df5ffed",
   "metadata": {},
   "outputs": [
    {
     "name": "stdout",
     "output_type": "stream",
     "text": [
      "loss during training of train_data: 0.06666439771652222\n"
     ]
    }
   ],
   "source": [
    "print(\"loss during training of train_data:\",test_metrics[0])"
   ]
  },
  {
   "cell_type": "code",
   "execution_count": 26,
   "id": "ba080e24",
   "metadata": {},
   "outputs": [
    {
     "name": "stdout",
     "output_type": "stream",
     "text": [
      "accuracy during training of test_data: 0.987538754940033\n"
     ]
    }
   ],
   "source": [
    "print(\"accuracy during training of test_data:\",test_metrics[1])"
   ]
  },
  {
   "cell_type": "code",
   "execution_count": 27,
   "id": "df95d536",
   "metadata": {},
   "outputs": [
    {
     "name": "stdout",
     "output_type": "stream",
     "text": [
      "36/36 [==============================] - 1s 14ms/step\n"
     ]
    }
   ],
   "source": [
    "predicted_data=model.predict(test_data)"
   ]
  },
  {
   "cell_type": "code",
   "execution_count": 28,
   "id": "7e559ca7",
   "metadata": {},
   "outputs": [],
   "source": [
    "actual_data=label1.values"
   ]
  },
  {
   "cell_type": "code",
   "execution_count": 29,
   "id": "e9dce623",
   "metadata": {},
   "outputs": [
    {
     "data": {
      "text/plain": [
       "array([[0.0105283 ],\n",
       "       [0.01063498],\n",
       "       [0.01053161],\n",
       "       ...,\n",
       "       [0.01512757],\n",
       "       [0.01236262],\n",
       "       [0.0105283 ]], dtype=float32)"
      ]
     },
     "execution_count": 29,
     "metadata": {},
     "output_type": "execute_result"
    }
   ],
   "source": [
    "predicted_data"
   ]
  },
  {
   "cell_type": "code",
   "execution_count": 30,
   "id": "d1769faa",
   "metadata": {},
   "outputs": [
    {
     "data": {
      "text/plain": [
       "array([[0, 0, 0, ..., 0, 0, 0],\n",
       "       [0, 0, 0, ..., 0, 0, 0],\n",
       "       [0, 0, 0, ..., 0, 0, 0],\n",
       "       ...,\n",
       "       [0, 0, 0, ..., 0, 0, 0],\n",
       "       [0, 0, 0, ..., 0, 0, 0],\n",
       "       [0, 0, 0, ..., 0, 0, 0]], dtype=int64)"
      ]
     },
     "execution_count": 30,
     "metadata": {},
     "output_type": "execute_result"
    }
   ],
   "source": [
    "actual_data"
   ]
  },
  {
   "cell_type": "code",
   "execution_count": null,
   "id": "703609df",
   "metadata": {},
   "outputs": [],
   "source": []
  },
  {
   "cell_type": "code",
   "execution_count": null,
   "id": "fab6b817",
   "metadata": {},
   "outputs": [],
   "source": []
  }
 ],
 "metadata": {
  "kernelspec": {
   "display_name": "Python 3 (ipykernel)",
   "language": "python",
   "name": "python3"
  },
  "language_info": {
   "codemirror_mode": {
    "name": "ipython",
    "version": 3
   },
   "file_extension": ".py",
   "mimetype": "text/x-python",
   "name": "python",
   "nbconvert_exporter": "python",
   "pygments_lexer": "ipython3",
   "version": "3.10.9"
  }
 },
 "nbformat": 4,
 "nbformat_minor": 5
}
